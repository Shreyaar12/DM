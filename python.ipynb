{
 "cells": [
  {
   "cell_type": "markdown",
   "metadata": {},
   "source": [
    "LAB DA 1 BY SHREYA RAJPAL 21BBS0202"
   ]
  },
  {
   "cell_type": "code",
   "execution_count": 10,
   "metadata": {},
   "outputs": [
    {
     "name": "stdout",
     "output_type": "stream",
     "text": [
      "Requirement already satisfied: mlxtend in c:\\python311\\lib\\site-packages (0.23.1)\n",
      "Requirement already satisfied: scipy>=1.2.1 in c:\\users\\shreya rajpal\\appdata\\roaming\\python\\python311\\site-packages (from mlxtend) (1.13.0)\n",
      "Requirement already satisfied: numpy>=1.16.2 in c:\\users\\shreya rajpal\\appdata\\roaming\\python\\python311\\site-packages (from mlxtend) (1.26.4)\n",
      "Requirement already satisfied: pandas>=0.24.2 in c:\\users\\shreya rajpal\\appdata\\roaming\\python\\python311\\site-packages (from mlxtend) (2.2.2)\n",
      "Requirement already satisfied: scikit-learn>=1.0.2 in c:\\users\\shreya rajpal\\appdata\\roaming\\python\\python311\\site-packages (from mlxtend) (1.4.2)\n",
      "Requirement already satisfied: matplotlib>=3.0.0 in c:\\users\\shreya rajpal\\appdata\\roaming\\python\\python311\\site-packages (from mlxtend) (3.8.4)\n",
      "Requirement already satisfied: joblib>=0.13.2 in c:\\users\\shreya rajpal\\appdata\\roaming\\python\\python311\\site-packages (from mlxtend) (1.4.2)\n",
      "Requirement already satisfied: contourpy>=1.0.1 in c:\\users\\shreya rajpal\\appdata\\roaming\\python\\python311\\site-packages (from matplotlib>=3.0.0->mlxtend) (1.2.1)\n",
      "Requirement already satisfied: cycler>=0.10 in c:\\users\\shreya rajpal\\appdata\\roaming\\python\\python311\\site-packages (from matplotlib>=3.0.0->mlxtend) (0.12.1)\n",
      "Requirement already satisfied: fonttools>=4.22.0 in c:\\users\\shreya rajpal\\appdata\\roaming\\python\\python311\\site-packages (from matplotlib>=3.0.0->mlxtend) (4.51.0)\n",
      "Requirement already satisfied: kiwisolver>=1.3.1 in c:\\users\\shreya rajpal\\appdata\\roaming\\python\\python311\\site-packages (from matplotlib>=3.0.0->mlxtend) (1.4.5)\n",
      "Requirement already satisfied: packaging>=20.0 in c:\\python311\\lib\\site-packages (from matplotlib>=3.0.0->mlxtend) (24.1)\n",
      "Requirement already satisfied: pillow>=8 in c:\\users\\shreya rajpal\\appdata\\roaming\\python\\python311\\site-packages (from matplotlib>=3.0.0->mlxtend) (10.3.0)\n",
      "Requirement already satisfied: pyparsing>=2.3.1 in c:\\users\\shreya rajpal\\appdata\\roaming\\python\\python311\\site-packages (from matplotlib>=3.0.0->mlxtend) (3.1.2)\n",
      "Requirement already satisfied: python-dateutil>=2.7 in c:\\users\\shreya rajpal\\appdata\\roaming\\python\\python311\\site-packages (from matplotlib>=3.0.0->mlxtend) (2.9.0.post0)\n",
      "Requirement already satisfied: pytz>=2020.1 in c:\\python311\\lib\\site-packages (from pandas>=0.24.2->mlxtend) (2024.1)\n",
      "Requirement already satisfied: tzdata>=2022.7 in c:\\users\\shreya rajpal\\appdata\\roaming\\python\\python311\\site-packages (from pandas>=0.24.2->mlxtend) (2024.1)\n",
      "Requirement already satisfied: threadpoolctl>=2.0.0 in c:\\users\\shreya rajpal\\appdata\\roaming\\python\\python311\\site-packages (from scikit-learn>=1.0.2->mlxtend) (3.5.0)\n",
      "Requirement already satisfied: six>=1.5 in c:\\users\\shreya rajpal\\appdata\\roaming\\python\\python311\\site-packages (from python-dateutil>=2.7->matplotlib>=3.0.0->mlxtend) (1.16.0)\n"
     ]
    },
    {
     "name": "stderr",
     "output_type": "stream",
     "text": [
      "WARNING: Ignoring invalid distribution ~ip (C:\\Python311\\Lib\\site-packages)\n",
      "WARNING: Ignoring invalid distribution ~ip (C:\\Python311\\Lib\\site-packages)\n",
      "WARNING: Ignoring invalid distribution ~ip (C:\\Python311\\Lib\\site-packages)\n"
     ]
    }
   ],
   "source": [
    "!pip install mlxtend"
   ]
  },
  {
   "cell_type": "markdown",
   "metadata": {},
   "source": [
    "Q1"
   ]
  },
  {
   "cell_type": "code",
   "execution_count": 11,
   "metadata": {},
   "outputs": [],
   "source": [
    "import pandas as pd\n",
    "import numpy as np\n",
    "import matplotlib.pyplot as plt\n",
    "import seaborn as sns\n",
    "from scipy import stats\n",
    "from mlxtend.frequent_patterns import apriori, association_rules\n",
    "from mlxtend.preprocessing import TransactionEncoder\n"
   ]
  },
  {
   "cell_type": "code",
   "execution_count": 12,
   "metadata": {},
   "outputs": [],
   "source": [
    "# Load the employee dataset\n",
    "df = pd.read_csv('./employee_data.csv')\n"
   ]
  },
  {
   "cell_type": "code",
   "execution_count": 13,
   "metadata": {},
   "outputs": [
    {
     "name": "stdout",
     "output_type": "stream",
     "text": [
      "Dimensions of the dataset: (30, 6)\n",
      "<class 'pandas.core.frame.DataFrame'>\n",
      "RangeIndex: 30 entries, 0 to 29\n",
      "Data columns (total 6 columns):\n",
      " #   Column       Non-Null Count  Dtype \n",
      "---  ------       --------------  ----- \n",
      " 0   Empid        30 non-null     int64 \n",
      " 1   Name         30 non-null     object\n",
      " 2   Designation  30 non-null     object\n",
      " 3   Salary       30 non-null     int64 \n",
      " 4   Experience   30 non-null     int64 \n",
      " 5   Vaccinated   30 non-null     object\n",
      "dtypes: int64(3), object(3)\n",
      "memory usage: 1.5+ KB\n",
      "Attribute Names: ['Empid', 'Name', 'Designation', 'Salary', 'Experience', 'Vaccinated']\n",
      "Attribute Values:\n",
      "             Empid  Name Designation        Salary  Experience Vaccinated\n",
      "count   30.000000    30          30     30.000000   30.000000         30\n",
      "unique        NaN    30           4           NaN         NaN          2\n",
      "top           NaN  John     Manager           NaN         NaN        Yes\n",
      "freq          NaN     1           8           NaN         NaN         15\n",
      "mean    15.500000   NaN         NaN  22466.666667    8.233333        NaN\n",
      "std      8.803408   NaN         NaN   7606.636546    3.626372        NaN\n",
      "min      1.000000   NaN         NaN  11000.000000    1.000000        NaN\n",
      "25%      8.250000   NaN         NaN  16625.000000    5.250000        NaN\n",
      "50%     15.500000   NaN         NaN  23750.000000    9.500000        NaN\n",
      "75%     22.750000   NaN         NaN  28750.000000   11.750000        NaN\n",
      "max     30.000000   NaN         NaN  35000.000000   12.000000        NaN\n"
     ]
    }
   ],
   "source": [
    "# Dimensions of the dataset\n",
    "dimensions = df.shape\n",
    "print(\"Dimensions of the dataset:\", dimensions)\n",
    "\n",
    "# Structure of the dataset\n",
    "structure = df.info()\n",
    "\n",
    "# Attribute names\n",
    "attribute_names = df.columns.tolist()\n",
    "print(\"Attribute Names:\", attribute_names)\n",
    "\n",
    "# Attribute values\n",
    "attribute_values = df.describe(include='all')\n",
    "print(\"Attribute Values:\\n\", attribute_values)\n"
   ]
  },
  {
   "cell_type": "code",
   "execution_count": 14,
   "metadata": {},
   "outputs": [
    {
     "name": "stdout",
     "output_type": "stream",
     "text": [
      "   Empid     Name Designation  Salary  Experience Vaccinated\n",
      "0      1     John     Manager   30000          12        Yes\n",
      "1      2     Jane  Supervisor   25000          10         No\n",
      "2      3      Doe       Clerk   18000           8        Yes\n",
      "3      4    Emily      Labour   12000           5         No\n",
      "4      5  Michael     Manager   31000          12        Yes\n",
      "    Empid       Name Designation  Salary  Experience Vaccinated\n",
      "25     26  Alexander  Supervisor   27500          10         No\n",
      "26     27     Harper       Clerk   16500           5        Yes\n",
      "27     28  Sebastian      Labour   14000           3         No\n",
      "28     29       Luna     Manager   35000          12        Yes\n",
      "29     30       Jack  Supervisor   28000          11         No\n",
      "      Name Designation  Salary\n",
      "0     John     Manager   30000\n",
      "1     Jane  Supervisor   25000\n",
      "2      Doe       Clerk   18000\n",
      "3    Emily      Labour   12000\n",
      "4  Michael     Manager   31000\n",
      "5    Sarah  Supervisor   24000\n",
      "6    David       Clerk   19000\n",
      "7    Laura      Labour   11000\n",
      "8   Daniel     Manager   32000\n",
      "9     Emma  Supervisor   26000\n",
      "0          John\n",
      "1          Jane\n",
      "2           Doe\n",
      "3         Emily\n",
      "4       Michael\n",
      "5         Sarah\n",
      "6         David\n",
      "7         Laura\n",
      "8        Daniel\n",
      "9          Emma\n",
      "10       Sophia\n",
      "11        James\n",
      "12       Olivia\n",
      "13         Liam\n",
      "14     Isabella\n",
      "15        Ethan\n",
      "16          Mia\n",
      "17        Mason\n",
      "18       Amelia\n",
      "19        Lucas\n",
      "20          Ava\n",
      "21     Benjamin\n",
      "22    Charlotte\n",
      "23        Henry\n",
      "24       Evelyn\n",
      "25    Alexander\n",
      "26       Harper\n",
      "27    Sebastian\n",
      "28         Luna\n",
      "29         Jack\n",
      "Name: Name, dtype: object\n",
      "    Empid       Name Designation  Salary  Experience Vaccinated\n",
      "0       1       John     Manager   30000          12        Yes\n",
      "1       2       Jane  Supervisor   25000          10         No\n",
      "2       3        Doe       Clerk   18000           8        Yes\n",
      "3       4      Emily      Labour   12000           5         No\n",
      "4       5    Michael     Manager   31000          12        Yes\n",
      "5       6      Sarah  Supervisor   24000          10         No\n",
      "6       7      David       Clerk   19000           8        Yes\n",
      "7       8      Laura      Labour   11000           4         No\n",
      "8       9     Daniel     Manager   32000          12        Yes\n",
      "9      10       Emma  Supervisor   26000          11         No\n",
      "10     11     Sophia       Clerk   17500           7        Yes\n",
      "11     12      James      Labour   11500           3         No\n",
      "12     13     Olivia     Manager   30500          12        Yes\n",
      "13     14       Liam  Supervisor   24500           9         No\n",
      "14     15   Isabella       Clerk   18500           7        Yes\n",
      "15     16      Ethan      Labour   12500           2         No\n",
      "16     17        Mia     Manager   29000          12        Yes\n",
      "17     18      Mason  Supervisor   23500          10         No\n",
      "18     19     Amelia       Clerk   20000           8        Yes\n",
      "19     20      Lucas      Labour   13000           1         No\n",
      "20     21        Ava     Manager   33000          12        Yes\n",
      "21     22   Benjamin  Supervisor   27000          11         No\n",
      "22     23  Charlotte       Clerk   17000           6        Yes\n",
      "23     24      Henry      Labour   13500           2         No\n",
      "24     25     Evelyn     Manager   34000          12        Yes\n",
      "25     26  Alexander  Supervisor   27500          10         No\n",
      "26     27     Harper       Clerk   16500           5        Yes\n",
      "27     28  Sebastian      Labour   14000           3         No\n",
      "28     29       Luna     Manager   35000          12        Yes\n",
      "29     30       Jack  Supervisor   28000          11         No\n"
     ]
    }
   ],
   "source": [
    "# (A) First 5 records\n",
    "print(df.head())\n",
    "\n",
    "# (B) Last 5 records\n",
    "print(df.tail())\n",
    "\n",
    "# (C) Name, Designation, Salary of first 10 records\n",
    "print(df[['Name', 'Designation', 'Salary']].head(10))\n",
    "\n",
    "# (D) Name of all records\n",
    "print(df['Name'])\n",
    "\n",
    "# (E) All records\n",
    "print(df)\n"
   ]
  },
  {
   "cell_type": "code",
   "execution_count": 15,
   "metadata": {},
   "outputs": [
    {
     "name": "stdout",
     "output_type": "stream",
     "text": [
      "Mean:\n",
      " Empid            15.500000\n",
      "Salary        22466.666667\n",
      "Experience        8.233333\n",
      "dtype: float64\n",
      "Median:\n",
      " Empid            15.5\n",
      "Salary        23750.0\n",
      "Experience        9.5\n",
      "dtype: float64\n",
      "Mode:\n",
      " Empid             1.0\n",
      "Salary        11000.0\n",
      "Experience       12.0\n",
      "Name: 0, dtype: float64\n",
      "Variance:\n",
      " Empid         7.750000e+01\n",
      "Salary        5.786092e+07\n",
      "Experience    1.315057e+01\n",
      "dtype: float64\n",
      "Covariance:\n",
      "                   Empid        Salary    Experience\n",
      "Empid         77.500000  5.724138e+03     -3.500000\n",
      "Salary      5724.137931  5.786092e+07  26008.045977\n",
      "Experience    -3.500000  2.600805e+04     13.150575\n",
      "Correlation of Salary to Experience: 0.9428501882148848\n"
     ]
    }
   ],
   "source": [
    "import pandas as pd\n",
    "\n",
    "# Load the employee dataset\n",
    "df = pd.read_csv('employee_data.csv')\n",
    "\n",
    "# Select only numeric columns for statistical analysis\n",
    "numeric_df = df.select_dtypes(include=[np.number])\n",
    "\n",
    "# (a) Mean, median, mode of the numeric variables\n",
    "mean_values = numeric_df.mean()\n",
    "median_values = numeric_df.median()\n",
    "mode_values = numeric_df.mode().iloc[0]\n",
    "\n",
    "print(\"Mean:\\n\", mean_values)\n",
    "print(\"Median:\\n\", median_values)\n",
    "print(\"Mode:\\n\", mode_values)\n",
    "\n",
    "# (b) Variance and Covariance\n",
    "variance = numeric_df.var()\n",
    "covariance = numeric_df.cov()\n",
    "\n",
    "print(\"Variance:\\n\", variance)\n",
    "print(\"Covariance:\\n\", covariance)\n",
    "\n",
    "# (c) Correlation of salary to experience\n",
    "correlation = df['Salary'].corr(df['Experience'])\n",
    "print(\"Correlation of Salary to Experience:\", correlation)\n"
   ]
  },
  {
   "cell_type": "code",
   "execution_count": 16,
   "metadata": {},
   "outputs": [
    {
     "data": {
      "image/png": "[encoded data removed]",
      "text/plain": [
       "<Figure size 640x480 with 1 Axes>"
      ]
     },
     "metadata": {},
     "output_type": "display_data"
    },
    {
     "data": {
      "image/png": "[encoded data removed]",
      "text/plain": [
       "<Figure size 640x480 with 1 Axes>"
      ]
     },
     "metadata": {},
     "output_type": "display_data"
    },
    {
     "data": {
      "image/png": "[encoded data removed]",
      "text/plain": [
       "<Figure size 640x480 with 1 Axes>"
      ]
     },
     "metadata": {},
     "output_type": "display_data"
    }
   ],
   "source": [
    "# (A) Pie chart on designation\n",
    "designation_counts = df['Designation'].value_counts()\n",
    "designation_counts.plot.pie(autopct='%1.1f%%', startangle=90, colors=sns.color_palette('Set2'))\n",
    "plt.title('Designation Distribution')\n",
    "plt.ylabel('')\n",
    "plt.show()\n",
    "\n",
    "# (B) Histogram of Salary\n",
    "plt.hist(df['Salary'], bins=10, color='skyblue', edgecolor='black')\n",
    "plt.title('Salary Distribution')\n",
    "plt.xlabel('Salary')\n",
    "plt.ylabel('Frequency')\n",
    "plt.show()\n",
    "\n",
    "# (C) Scatter plot of Salary to Experience\n",
    "plt.scatter(df['Experience'], df['Salary'], color='red')\n",
    "plt.title('Salary vs Experience')\n",
    "plt.xlabel('Experience')\n",
    "plt.ylabel('Salary')\n",
    "plt.show()\n"
   ]
  },
  {
   "cell_type": "markdown",
   "metadata": {},
   "source": [
    "Q2 IN PYTHON FILE"
   ]
  },
  {
   "cell_type": "markdown",
   "metadata": {},
   "source": [
    "Q3"
   ]
  },
  {
   "cell_type": "code",
   "execution_count": 17,
   "metadata": {},
   "outputs": [
    {
     "name": "stdout",
     "output_type": "stream",
     "text": [
      "Frequent Itemsets:\n",
      "    support         itemsets\n",
      "0      0.6         (banana)\n",
      "1      0.8          (mango)\n",
      "2      0.6         (orange)\n",
      "3      0.6  (banana, mango)\n",
      "Association Rules:\n",
      "   antecedents consequents  antecedent support  consequent support  support  \\\n",
      "0    (banana)     (mango)                 0.6                 0.8      0.6   \n",
      "1     (mango)    (banana)                 0.8                 0.6      0.6   \n",
      "\n",
      "   confidence  lift  leverage  conviction  zhangs_metric  \n",
      "0        1.00  1.25      0.12         inf            0.5  \n",
      "1        0.75  1.25      0.12         1.6            1.0  \n"
     ]
    }
   ],
   "source": [
    "# Assume a sample transactional dataset for the juice stall's history\n",
    "transactions = [\n",
    "    ['apple', 'banana', 'mango'],\n",
    "    ['banana', 'mango', 'orange'],\n",
    "    ['apple', 'orange'],\n",
    "    ['banana', 'mango'],\n",
    "    ['mango', 'orange']\n",
    "]\n",
    "\n",
    "# Apply Transaction Encoder\n",
    "te = TransactionEncoder()\n",
    "te_ary = te.fit(transactions).transform(transactions)\n",
    "df_trans = pd.DataFrame(te_ary, columns=te.columns_)\n",
    "\n",
    "# Apply Apriori Algorithm\n",
    "frequent_itemsets = apriori(df_trans, min_support=0.6, use_colnames=True)\n",
    "print(\"Frequent Itemsets:\\n\", frequent_itemsets)\n",
    "\n",
    "# Generate association rules\n",
    "rules = association_rules(frequent_itemsets, metric=\"confidence\", min_threshold=0.7)\n",
    "print(\"Association Rules:\\n\", rules)\n"
   ]
  },
  {
   "cell_type": "code",
   "execution_count": 18,
   "metadata": {},
   "outputs": [
    {
     "name": "stdout",
     "output_type": "stream",
     "text": [
      "Frequent Itemsets using FP-Growth:\n",
      "    support         itemsets\n",
      "0      0.8          (mango)\n",
      "1      0.6         (banana)\n",
      "2      0.6         (orange)\n",
      "3      0.6  (banana, mango)\n",
      "Association Rules using FP-Growth:\n",
      "   antecedents consequents  antecedent support  consequent support  support  \\\n",
      "0    (banana)     (mango)                 0.6                 0.8      0.6   \n",
      "1     (mango)    (banana)                 0.8                 0.6      0.6   \n",
      "\n",
      "   confidence  lift  leverage  conviction  zhangs_metric  \n",
      "0        1.00  1.25      0.12         inf            0.5  \n",
      "1        0.75  1.25      0.12         1.6            1.0  \n"
     ]
    }
   ],
   "source": [
    "from mlxtend.frequent_patterns import fpgrowth\n",
    "\n",
    "# Use the same transactional data as above\n",
    "frequent_itemsets_fp = fpgrowth(df_trans, min_support=0.6, use_colnames=True)\n",
    "print(\"Frequent Itemsets using FP-Growth:\\n\", frequent_itemsets_fp)\n",
    "\n",
    "# Generate association rules\n",
    "rules_fp = association_rules(frequent_itemsets_fp, metric=\"confidence\", min_threshold=0.7)\n",
    "print(\"Association Rules using FP-Growth:\\n\", rules_fp)\n"
   ]
  },
  {
   "cell_type": "markdown",
   "metadata": {},
   "source": [
    "Q4\n"
   ]
  },
  {
   "cell_type": "code",
   "execution_count": 19,
   "metadata": {},
   "outputs": [
    {
     "name": "stdout",
     "output_type": "stream",
     "text": [
      "Frequent Itemsets:\n",
      "   support                  itemsets\n",
      "0      0.8                   (Car B)\n",
      "1      0.6         (Service Package)\n",
      "2      0.6                   (Car A)\n",
      "3      0.4                   (Car C)\n",
      "4      0.4  (Service Package, Car B)\n",
      "5      0.4  (Service Package, Car A)\n",
      "6      0.4            (Car A, Car B)\n",
      "7      0.4            (Car C, Car B)\n",
      "\n",
      "Association Rules:\n",
      "  antecedents consequents  antecedent support  consequent support  support  \\\n",
      "0     (Car C)     (Car B)                 0.4                 0.8      0.4   \n",
      "\n",
      "   confidence  lift  leverage  conviction  zhangs_metric  \n",
      "0         1.0  1.25      0.08         inf       0.333333  \n"
     ]
    }
   ],
   "source": [
    "import pandas as pd\n",
    "from mlxtend.frequent_patterns import fpgrowth, association_rules\n",
    "from mlxtend.preprocessing import TransactionEncoder\n",
    "\n",
    "df = pd.read_csv('./services.csv')\n",
    "\n",
    "transactions = df.groupby('TransactionID')['Item'].apply(list).tolist()\n",
    "\n",
    "te = TransactionEncoder()\n",
    "te_ary = te.fit(transactions).transform(transactions)\n",
    "df_onehot = pd.DataFrame(te_ary, columns=te.columns_)\n",
    "\n",
    "min_support = 0.4  \n",
    "\n",
    "frequent_itemsets = fpgrowth(df_onehot, min_support=min_support, use_colnames=True)\n",
    "\n",
    "print(\"Frequent Itemsets:\")\n",
    "print(frequent_itemsets)\n",
    "\n",
    "min_confidence = 0.7  \n",
    "\n",
    "rules = association_rules(frequent_itemsets, metric=\"confidence\", min_threshold=min_confidence)\n",
    "\n",
    "print(\"\\nAssociation Rules:\")\n",
    "print(rules)"
   ]
  }
 ],
 "metadata": {
  "kernelspec": {
   "display_name": "Python 3",
   "language": "python",
   "name": "python3"
  },
  "language_info": {
   "codemirror_mode": {
    "name": "ipython",
    "version": 3
   },
   "file_extension": ".py",
   "mimetype": "text/x-python",
   "name": "python",
   "nbconvert_exporter": "python",
   "pygments_lexer": "ipython3",
   "version": "3.11.4"
  }
 },
 "nbformat": 4,
 "nbformat_minor": 2
}
